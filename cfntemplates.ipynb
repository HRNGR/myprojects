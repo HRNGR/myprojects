{
  "nbformat": 4,
  "nbformat_minor": 0,
  "metadata": {
    "colab": {
      "name": "Untitled0.ipynb",
      "provenance": [],
      "collapsed_sections": [],
      "authorship_tag": "ABX9TyPjr3JYj1+tdUq/gyhF0PHw",
      "include_colab_link": true
    },
    "kernelspec": {
      "name": "python3",
      "display_name": "Python 3"
    },
    "language_info": {
      "name": "python"
    }
  },
  "cells": [
    {
      "cell_type": "markdown",
      "metadata": {
        "id": "view-in-github",
        "colab_type": "text"
      },
      "source": [
        "<a href=\"https://colab.research.google.com/github/HRNGR/myprojects/blob/main/cfntemplates.ipynb\" target=\"_parent\"><img src=\"https://colab.research.google.com/assets/colab-badge.svg\" alt=\"Open In Colab\"/></a>"
      ]
    },
    {
      "cell_type": "code",
      "source": [
        "test.yaml"
      ],
      "metadata": {
        "id": "mSTw7Ct5sLvF"
      },
      "execution_count": null,
      "outputs": []
    },
    {
      "cell_type": "code",
      "source": [
        ""
      ],
      "metadata": {
        "id": "mRpyOefAtAZp"
      },
      "execution_count": null,
      "outputs": []
    },
    {
      "cell_type": "code",
      "source": [
        "cfntemplate.yaml\n",
        "\n",
        "AWSTemplateFormatVersion: 2010-09-09\n",
        "\n",
        "Description: |\n",
        "  This template launches an EC2 instance which enables SSH.\n",
        "\n",
        "Resources:\n",
        "  CFNInstance:\n",
        "    Type: AWS::EC2::Instance\n",
        "    Properties:\n",
        "      ImageId: \"ami-08e4e35cccc6189f4\"\n",
        "      InstanceType: t2.micro\n",
        "      KeyName: FirstKey # Please use your own key name without .pem\n",
        "      SecurityGroups: \n",
        "        - cfn-sec-group\n",
        "      Tags:\n",
        "        - Key: Name\n",
        "          Value: Cfn-Instance\n",
        "\n",
        "  \n",
        "\n",
        "\n",
        "AWSTemplateFormatVersion: 2010-09-09\n",
        "Description: |\n",
        "  \n",
        "Parameters:\n",
        "  \n",
        "Resources:\n",
        "  \n",
        "Outputs:"
      ],
      "metadata": {
        "colab": {
          "base_uri": "https://localhost:8080/",
          "height": 165
        },
        "id": "ZGUUM7C8tlp7",
        "outputId": "a1ab5243-2001-456f-d85e-0d9c853438dc"
      },
      "execution_count": 3,
      "outputs": [
        {
          "output_type": "error",
          "ename": "NameError",
          "evalue": "ignored",
          "traceback": [
            "\u001b[0;31m---------------------------------------------------------------------------\u001b[0m",
            "\u001b[0;31mNameError\u001b[0m                                 Traceback (most recent call last)",
            "\u001b[0;32m<ipython-input-3-dd4384a5fbef>\u001b[0m in \u001b[0;36m<module>\u001b[0;34m()\u001b[0m\n\u001b[0;32m----> 1\u001b[0;31m \u001b[0mcfntemplate\u001b[0m\u001b[0;34m.\u001b[0m\u001b[0myaml\u001b[0m\u001b[0;34m\u001b[0m\u001b[0;34m\u001b[0m\u001b[0m\n\u001b[0m",
            "\u001b[0;31mNameError\u001b[0m: name 'cfntemplate' is not defined"
          ]
        }
      ]
    },
    {
      "cell_type": "code",
      "execution_count": 4,
      "metadata": {
        "colab": {
          "base_uri": "https://localhost:8080/",
          "height": 165
        },
        "id": "PnXna7IYkQS7",
        "outputId": "62f66923-c190-49a9-c153-3358610a6df1"
      },
      "outputs": [
        {
          "output_type": "error",
          "ename": "NameError",
          "evalue": "ignored",
          "traceback": [
            "\u001b[0;31m---------------------------------------------------------------------------\u001b[0m",
            "\u001b[0;31mNameError\u001b[0m                                 Traceback (most recent call last)",
            "\u001b[0;32m<ipython-input-4-4555c22255df>\u001b[0m in \u001b[0;36m<module>\u001b[0;34m()\u001b[0m\n\u001b[0;32m----> 1\u001b[0;31m \u001b[0mtest\u001b[0m\u001b[0;34m.\u001b[0m\u001b[0mpy\u001b[0m\u001b[0;34m\u001b[0m\u001b[0;34m\u001b[0m\u001b[0m\n\u001b[0m",
            "\u001b[0;31mNameError\u001b[0m: name 'test' is not defined"
          ]
        }
      ],
      "source": [
        "test.py"
      ]
    },
    {
      "cell_type": "code",
      "source": [
        ""
      ],
      "metadata": {
        "id": "PAyE5v_ltvb2"
      },
      "execution_count": null,
      "outputs": []
    }
  ]
}