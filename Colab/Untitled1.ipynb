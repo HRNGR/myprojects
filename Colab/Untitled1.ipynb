{
  "nbformat": 4,
  "nbformat_minor": 0,
  "metadata": {
    "colab": {
      "name": "Untitled1.ipynb",
      "provenance": [],
      "collapsed_sections": [],
      "authorship_tag": "ABX9TyMOIJf6xdRSHqPjvcNV2gYi",
      "include_colab_link": true
    },
    "kernelspec": {
      "name": "python3",
      "display_name": "Python 3"
    },
    "language_info": {
      "name": "python"
    }
  },
  "cells": [
    {
      "cell_type": "markdown",
      "metadata": {
        "id": "view-in-github",
        "colab_type": "text"
      },
      "source": [
        "<a href=\"https://colab.research.google.com/github/HRNGR/myprojects/blob/main/Untitled1.ipynb\" target=\"_parent\"><img src=\"https://colab.research.google.com/assets/colab-badge.svg\" alt=\"Open In Colab\"/></a>"
      ]
    },
    {
      "cell_type": "code",
      "execution_count": null,
      "metadata": {
        "id": "YvvJWtiiUdm1"
      },
      "outputs": [],
      "source": [
        ""
      ]
    },
    {
      "cell_type": "markdown",
      "source": [
        "Boxing yarismasi oyunu:\n",
        "2 Player sirayla birbirlerine sirayla vurmaya basliyor. İlk baslayani kura ile belirliyorlar. Biri yikilana kadar oyun devam ediyor. Her yumrugun diger oyuncuyu yikma ihtimali 10%.\n",
        "\n",
        "Output:\n",
        "\n",
        "Fight!!!\n",
        "Player #2 hits\n",
        "Player #1 hits\n",
        "Player #2 hits\n",
        "...\n",
        "Player #1 hits and knocks out!\n",
        "Game over!!!"
      ],
      "metadata": {
        "id": "-jHNITFnUeJT"
      }
    },
    {
      "cell_type": "code",
      "source": [
        "Boxing yarismasi oyunu:\n",
        "2 Player sirayla birbirlerine sirayla vurmaya basliyor. İlk baslayani kura ile belirliyorlar. Biri yikilana kadar oyun devam ediyor. Her yumrugun diger oyuncuyu yikma ihtimali 10%.\n",
        "\n",
        "Output:\n",
        "\n",
        "Fight!!!\n",
        "Player #2 hits\n",
        "Player #1 hits\n",
        "Player #2 hits\n",
        "...\n",
        "Player #1 hits and knocks out!\n",
        "Game over!!!\n",
        "from random import choice\n",
        "\n",
        "numbers = []\n",
        "for i in range(101):\n",
        "    numbers.append(i)\n",
        "\n",
        "fighter1 = 0\n",
        "fighter2 = 0\n",
        "punch = 10\n",
        "\n",
        "list1 = [\"fighter1\", \"fighter2\"]\n",
        "c = choice(list1)\n",
        "\n",
        "\n",
        "fightend = False\n",
        "if c == \"fighter1\":\n",
        "    while fightend != True:\n",
        "        fighter1 += punch\n",
        "        print(\"fighter1 punch\")\n",
        "        a = choice(numbers)\n",
        "        \n",
        "        if a <= fighter1:\n",
        "            fightend = True\n",
        "            print(\"fighter1 wins\")\n",
        "        else:\n",
        "            fighter2 += punch\n",
        "            print(\"fighter2 punc"
      ],
      "metadata": {
        "colab": {
          "base_uri": "https://localhost:8080/",
          "height": 130
        },
        "id": "MZV2fhkXU3Oh",
        "outputId": "cbc1db93-807b-4b91-d898-87c6451d2b6a"
      },
      "execution_count": 1,
      "outputs": [
        {
          "output_type": "error",
          "ename": "SyntaxError",
          "evalue": "ignored",
          "traceback": [
            "\u001b[0;36m  File \u001b[0;32m\"<ipython-input-1-47efe15d8cec>\"\u001b[0;36m, line \u001b[0;32m1\u001b[0m\n\u001b[0;31m    Boxing yarismasi oyunu:\u001b[0m\n\u001b[0m                   ^\u001b[0m\n\u001b[0;31mSyntaxError\u001b[0m\u001b[0;31m:\u001b[0m invalid syntax\n"
          ]
        }
      ]
    }
  ]
}